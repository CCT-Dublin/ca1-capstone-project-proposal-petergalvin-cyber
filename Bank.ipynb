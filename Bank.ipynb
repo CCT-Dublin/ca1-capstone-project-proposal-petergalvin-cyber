{
 "cells": [
  {
   "cell_type": "code",
   "execution_count": 428,
   "id": "1f93e442-6156-49f8-a9c2-4d6c054d21bc",
   "metadata": {},
   "outputs": [
    {
     "name": "stdout",
     "output_type": "stream",
     "text": [
      "Requirement already satisfied: scikeras[tensorflow] in c:\\users\\windows\\anaconda3\\lib\\site-packages (0.13.0)\n",
      "Requirement already satisfied: keras>=3.2.0 in c:\\users\\windows\\anaconda3\\lib\\site-packages (from scikeras[tensorflow]) (3.6.0)\n",
      "Requirement already satisfied: scikit-learn>=1.4.2 in c:\\users\\windows\\anaconda3\\lib\\site-packages (from scikeras[tensorflow]) (1.4.2)\n",
      "Requirement already satisfied: tensorflow>=2.16.1 in c:\\users\\windows\\anaconda3\\lib\\site-packages (from scikeras[tensorflow]) (2.18.0)\n",
      "Requirement already satisfied: absl-py in c:\\users\\windows\\anaconda3\\lib\\site-packages (from keras>=3.2.0->scikeras[tensorflow]) (2.1.0)\n",
      "Requirement already satisfied: numpy in c:\\users\\windows\\anaconda3\\lib\\site-packages (from keras>=3.2.0->scikeras[tensorflow]) (1.26.4)\n",
      "Requirement already satisfied: rich in c:\\users\\windows\\anaconda3\\lib\\site-packages (from keras>=3.2.0->scikeras[tensorflow]) (13.3.5)\n",
      "Requirement already satisfied: namex in c:\\users\\windows\\anaconda3\\lib\\site-packages (from keras>=3.2.0->scikeras[tensorflow]) (0.0.8)\n",
      "Requirement already satisfied: h5py in c:\\users\\windows\\anaconda3\\lib\\site-packages (from keras>=3.2.0->scikeras[tensorflow]) (3.11.0)\n",
      "Requirement already satisfied: optree in c:\\users\\windows\\anaconda3\\lib\\site-packages (from keras>=3.2.0->scikeras[tensorflow]) (0.13.0)\n",
      "Requirement already satisfied: ml-dtypes in c:\\users\\windows\\anaconda3\\lib\\site-packages (from keras>=3.2.0->scikeras[tensorflow]) (0.4.1)\n",
      "Requirement already satisfied: packaging in c:\\users\\windows\\anaconda3\\lib\\site-packages (from keras>=3.2.0->scikeras[tensorflow]) (23.2)\n",
      "Requirement already satisfied: scipy>=1.6.0 in c:\\users\\windows\\anaconda3\\lib\\site-packages (from scikit-learn>=1.4.2->scikeras[tensorflow]) (1.13.1)\n",
      "Requirement already satisfied: joblib>=1.2.0 in c:\\users\\windows\\anaconda3\\lib\\site-packages (from scikit-learn>=1.4.2->scikeras[tensorflow]) (1.4.2)\n",
      "Requirement already satisfied: threadpoolctl>=2.0.0 in c:\\users\\windows\\anaconda3\\lib\\site-packages (from scikit-learn>=1.4.2->scikeras[tensorflow]) (2.2.0)\n",
      "Requirement already satisfied: tensorflow-intel==2.18.0 in c:\\users\\windows\\anaconda3\\lib\\site-packages (from tensorflow>=2.16.1->scikeras[tensorflow]) (2.18.0)\n",
      "Requirement already satisfied: astunparse>=1.6.0 in c:\\users\\windows\\anaconda3\\lib\\site-packages (from tensorflow-intel==2.18.0->tensorflow>=2.16.1->scikeras[tensorflow]) (1.6.3)\n",
      "Requirement already satisfied: flatbuffers>=24.3.25 in c:\\users\\windows\\anaconda3\\lib\\site-packages (from tensorflow-intel==2.18.0->tensorflow>=2.16.1->scikeras[tensorflow]) (24.3.25)\n",
      "Requirement already satisfied: gast!=0.5.0,!=0.5.1,!=0.5.2,>=0.2.1 in c:\\users\\windows\\anaconda3\\lib\\site-packages (from tensorflow-intel==2.18.0->tensorflow>=2.16.1->scikeras[tensorflow]) (0.6.0)\n",
      "Requirement already satisfied: google-pasta>=0.1.1 in c:\\users\\windows\\anaconda3\\lib\\site-packages (from tensorflow-intel==2.18.0->tensorflow>=2.16.1->scikeras[tensorflow]) (0.2.0)\n",
      "Requirement already satisfied: libclang>=13.0.0 in c:\\users\\windows\\anaconda3\\lib\\site-packages (from tensorflow-intel==2.18.0->tensorflow>=2.16.1->scikeras[tensorflow]) (18.1.1)\n",
      "Requirement already satisfied: opt-einsum>=2.3.2 in c:\\users\\windows\\anaconda3\\lib\\site-packages (from tensorflow-intel==2.18.0->tensorflow>=2.16.1->scikeras[tensorflow]) (3.4.0)\n",
      "Requirement already satisfied: protobuf!=4.21.0,!=4.21.1,!=4.21.2,!=4.21.3,!=4.21.4,!=4.21.5,<6.0.0dev,>=3.20.3 in c:\\users\\windows\\anaconda3\\lib\\site-packages (from tensorflow-intel==2.18.0->tensorflow>=2.16.1->scikeras[tensorflow]) (5.26.1)\n",
      "Requirement already satisfied: requests<3,>=2.21.0 in c:\\users\\windows\\anaconda3\\lib\\site-packages (from tensorflow-intel==2.18.0->tensorflow>=2.16.1->scikeras[tensorflow]) (2.32.2)\n",
      "Requirement already satisfied: setuptools in c:\\users\\windows\\anaconda3\\lib\\site-packages (from tensorflow-intel==2.18.0->tensorflow>=2.16.1->scikeras[tensorflow]) (69.5.1)\n",
      "Requirement already satisfied: six>=1.12.0 in c:\\users\\windows\\anaconda3\\lib\\site-packages (from tensorflow-intel==2.18.0->tensorflow>=2.16.1->scikeras[tensorflow]) (1.16.0)\n",
      "Requirement already satisfied: termcolor>=1.1.0 in c:\\users\\windows\\anaconda3\\lib\\site-packages (from tensorflow-intel==2.18.0->tensorflow>=2.16.1->scikeras[tensorflow]) (2.5.0)\n",
      "Requirement already satisfied: typing-extensions>=3.6.6 in c:\\users\\windows\\anaconda3\\lib\\site-packages (from tensorflow-intel==2.18.0->tensorflow>=2.16.1->scikeras[tensorflow]) (4.11.0)\n",
      "Requirement already satisfied: wrapt>=1.11.0 in c:\\users\\windows\\anaconda3\\lib\\site-packages (from tensorflow-intel==2.18.0->tensorflow>=2.16.1->scikeras[tensorflow]) (1.14.1)\n",
      "Requirement already satisfied: grpcio<2.0,>=1.24.3 in c:\\users\\windows\\anaconda3\\lib\\site-packages (from tensorflow-intel==2.18.0->tensorflow>=2.16.1->scikeras[tensorflow]) (1.67.1)\n",
      "Requirement already satisfied: tensorboard<2.19,>=2.18 in c:\\users\\windows\\anaconda3\\lib\\site-packages (from tensorflow-intel==2.18.0->tensorflow>=2.16.1->scikeras[tensorflow]) (2.18.0)\n",
      "Requirement already satisfied: markdown-it-py<3.0.0,>=2.2.0 in c:\\users\\windows\\anaconda3\\lib\\site-packages (from rich->keras>=3.2.0->scikeras[tensorflow]) (2.2.0)\n",
      "Requirement already satisfied: pygments<3.0.0,>=2.13.0 in c:\\users\\windows\\anaconda3\\lib\\site-packages (from rich->keras>=3.2.0->scikeras[tensorflow]) (2.15.1)\n",
      "Requirement already satisfied: wheel<1.0,>=0.23.0 in c:\\users\\windows\\anaconda3\\lib\\site-packages (from astunparse>=1.6.0->tensorflow-intel==2.18.0->tensorflow>=2.16.1->scikeras[tensorflow]) (0.43.0)\n",
      "Requirement already satisfied: mdurl~=0.1 in c:\\users\\windows\\anaconda3\\lib\\site-packages (from markdown-it-py<3.0.0,>=2.2.0->rich->keras>=3.2.0->scikeras[tensorflow]) (0.1.0)\n",
      "Requirement already satisfied: charset-normalizer<4,>=2 in c:\\users\\windows\\anaconda3\\lib\\site-packages (from requests<3,>=2.21.0->tensorflow-intel==2.18.0->tensorflow>=2.16.1->scikeras[tensorflow]) (2.0.4)\n",
      "Requirement already satisfied: idna<4,>=2.5 in c:\\users\\windows\\anaconda3\\lib\\site-packages (from requests<3,>=2.21.0->tensorflow-intel==2.18.0->tensorflow>=2.16.1->scikeras[tensorflow]) (3.7)\n",
      "Requirement already satisfied: urllib3<3,>=1.21.1 in c:\\users\\windows\\anaconda3\\lib\\site-packages (from requests<3,>=2.21.0->tensorflow-intel==2.18.0->tensorflow>=2.16.1->scikeras[tensorflow]) (2.2.2)\n",
      "Requirement already satisfied: certifi>=2017.4.17 in c:\\users\\windows\\anaconda3\\lib\\site-packages (from requests<3,>=2.21.0->tensorflow-intel==2.18.0->tensorflow>=2.16.1->scikeras[tensorflow]) (2024.8.30)\n",
      "Requirement already satisfied: markdown>=2.6.8 in c:\\users\\windows\\anaconda3\\lib\\site-packages (from tensorboard<2.19,>=2.18->tensorflow-intel==2.18.0->tensorflow>=2.16.1->scikeras[tensorflow]) (3.4.1)\n",
      "Requirement already satisfied: tensorboard-data-server<0.8.0,>=0.7.0 in c:\\users\\windows\\anaconda3\\lib\\site-packages (from tensorboard<2.19,>=2.18->tensorflow-intel==2.18.0->tensorflow>=2.16.1->scikeras[tensorflow]) (0.7.2)\n",
      "Requirement already satisfied: werkzeug>=1.0.1 in c:\\users\\windows\\anaconda3\\lib\\site-packages (from tensorboard<2.19,>=2.18->tensorflow-intel==2.18.0->tensorflow>=2.16.1->scikeras[tensorflow]) (3.0.3)\n",
      "Requirement already satisfied: MarkupSafe>=2.1.1 in c:\\users\\windows\\anaconda3\\lib\\site-packages (from werkzeug>=1.0.1->tensorboard<2.19,>=2.18->tensorflow-intel==2.18.0->tensorflow>=2.16.1->scikeras[tensorflow]) (2.1.3)\n",
      "Note: you may need to restart the kernel to use updated packages.\n"
     ]
    }
   ],
   "source": [
    "pip install scikeras[tensorflow]"
   ]
  },
  {
   "cell_type": "code",
   "execution_count": 429,
   "id": "49ff03e5-3462-40f4-94ac-88ed1cde7edb",
   "metadata": {},
   "outputs": [],
   "source": [
    "import numpy as np\n",
    "import pandas as pd\n",
    "import matplotlib.pyplot as plt\n",
    "import seaborn as sns\n",
    "from tensorflow.keras.models import Sequential\n",
    "from tensorflow.keras.layers import Dense, Dropout, BatchNormalization\n",
    "from tensorflow.keras.optimizers import Adam\n",
    "from tensorflow.keras.callbacks import EarlyStopping\n",
    "from sklearn.model_selection import train_test_split\n",
    "from sklearn.preprocessing import StandardScaler\n",
    "from imblearn.over_sampling import SMOTE\n",
    "from sklearn.metrics import classification_report\n",
    "from sklearn.model_selection import RandomizedSearchCV\n",
    "#from tensorflow.keras.wrappers.scikit_learn import KerasClassifier\n",
    "from scikeras.wrappers import KerasClassifier, KerasRegressor"
   ]
  },
  {
   "cell_type": "code",
   "execution_count": 430,
   "id": "e6e419ef-f1fd-4d5d-8565-302a6b7c0b59",
   "metadata": {
    "scrolled": true
   },
   "outputs": [
    {
     "data": {
      "text/html": [
       "<div>\n",
       "<style scoped>\n",
       "    .dataframe tbody tr th:only-of-type {\n",
       "        vertical-align: middle;\n",
       "    }\n",
       "\n",
       "    .dataframe tbody tr th {\n",
       "        vertical-align: top;\n",
       "    }\n",
       "\n",
       "    .dataframe thead th {\n",
       "        text-align: right;\n",
       "    }\n",
       "</style>\n",
       "<table border=\"1\" class=\"dataframe\">\n",
       "  <thead>\n",
       "    <tr style=\"text-align: right;\">\n",
       "      <th></th>\n",
       "      <th>age</th>\n",
       "      <th>job</th>\n",
       "      <th>marital</th>\n",
       "      <th>education</th>\n",
       "      <th>default</th>\n",
       "      <th>balance</th>\n",
       "      <th>housing</th>\n",
       "      <th>loan</th>\n",
       "      <th>contact</th>\n",
       "      <th>day</th>\n",
       "      <th>month</th>\n",
       "      <th>duration</th>\n",
       "      <th>campaign</th>\n",
       "      <th>pdays</th>\n",
       "      <th>previous</th>\n",
       "      <th>poutcome</th>\n",
       "      <th>y</th>\n",
       "    </tr>\n",
       "  </thead>\n",
       "  <tbody>\n",
       "    <tr>\n",
       "      <th>0</th>\n",
       "      <td>30</td>\n",
       "      <td>unemployed</td>\n",
       "      <td>married</td>\n",
       "      <td>primary</td>\n",
       "      <td>no</td>\n",
       "      <td>1787</td>\n",
       "      <td>no</td>\n",
       "      <td>no</td>\n",
       "      <td>cellular</td>\n",
       "      <td>19</td>\n",
       "      <td>oct</td>\n",
       "      <td>79</td>\n",
       "      <td>1</td>\n",
       "      <td>-1</td>\n",
       "      <td>0</td>\n",
       "      <td>unknown</td>\n",
       "      <td>no</td>\n",
       "    </tr>\n",
       "    <tr>\n",
       "      <th>1</th>\n",
       "      <td>33</td>\n",
       "      <td>services</td>\n",
       "      <td>married</td>\n",
       "      <td>secondary</td>\n",
       "      <td>no</td>\n",
       "      <td>4789</td>\n",
       "      <td>yes</td>\n",
       "      <td>yes</td>\n",
       "      <td>cellular</td>\n",
       "      <td>11</td>\n",
       "      <td>may</td>\n",
       "      <td>220</td>\n",
       "      <td>1</td>\n",
       "      <td>339</td>\n",
       "      <td>4</td>\n",
       "      <td>failure</td>\n",
       "      <td>no</td>\n",
       "    </tr>\n",
       "    <tr>\n",
       "      <th>2</th>\n",
       "      <td>35</td>\n",
       "      <td>management</td>\n",
       "      <td>single</td>\n",
       "      <td>tertiary</td>\n",
       "      <td>no</td>\n",
       "      <td>1350</td>\n",
       "      <td>yes</td>\n",
       "      <td>no</td>\n",
       "      <td>cellular</td>\n",
       "      <td>16</td>\n",
       "      <td>apr</td>\n",
       "      <td>185</td>\n",
       "      <td>1</td>\n",
       "      <td>330</td>\n",
       "      <td>1</td>\n",
       "      <td>failure</td>\n",
       "      <td>no</td>\n",
       "    </tr>\n",
       "    <tr>\n",
       "      <th>3</th>\n",
       "      <td>30</td>\n",
       "      <td>management</td>\n",
       "      <td>married</td>\n",
       "      <td>tertiary</td>\n",
       "      <td>no</td>\n",
       "      <td>1476</td>\n",
       "      <td>yes</td>\n",
       "      <td>yes</td>\n",
       "      <td>unknown</td>\n",
       "      <td>3</td>\n",
       "      <td>jun</td>\n",
       "      <td>199</td>\n",
       "      <td>4</td>\n",
       "      <td>-1</td>\n",
       "      <td>0</td>\n",
       "      <td>unknown</td>\n",
       "      <td>no</td>\n",
       "    </tr>\n",
       "    <tr>\n",
       "      <th>4</th>\n",
       "      <td>59</td>\n",
       "      <td>blue-collar</td>\n",
       "      <td>married</td>\n",
       "      <td>secondary</td>\n",
       "      <td>no</td>\n",
       "      <td>0</td>\n",
       "      <td>yes</td>\n",
       "      <td>no</td>\n",
       "      <td>unknown</td>\n",
       "      <td>5</td>\n",
       "      <td>may</td>\n",
       "      <td>226</td>\n",
       "      <td>1</td>\n",
       "      <td>-1</td>\n",
       "      <td>0</td>\n",
       "      <td>unknown</td>\n",
       "      <td>no</td>\n",
       "    </tr>\n",
       "  </tbody>\n",
       "</table>\n",
       "</div>"
      ],
      "text/plain": [
       "   age          job  marital  education default  balance housing loan  \\\n",
       "0   30   unemployed  married    primary      no     1787      no   no   \n",
       "1   33     services  married  secondary      no     4789     yes  yes   \n",
       "2   35   management   single   tertiary      no     1350     yes   no   \n",
       "3   30   management  married   tertiary      no     1476     yes  yes   \n",
       "4   59  blue-collar  married  secondary      no        0     yes   no   \n",
       "\n",
       "    contact  day month  duration  campaign  pdays  previous poutcome   y  \n",
       "0  cellular   19   oct        79         1     -1         0  unknown  no  \n",
       "1  cellular   11   may       220         1    339         4  failure  no  \n",
       "2  cellular   16   apr       185         1    330         1  failure  no  \n",
       "3   unknown    3   jun       199         4     -1         0  unknown  no  \n",
       "4   unknown    5   may       226         1     -1         0  unknown  no  "
      ]
     },
     "execution_count": 430,
     "metadata": {},
     "output_type": "execute_result"
    }
   ],
   "source": [
    "bank = pd.read_csv(\"bank.csv\",sep=\";\")\n",
    "bank.head()"
   ]
  },
  {
   "cell_type": "code",
   "execution_count": 551,
   "id": "f88af452-a058-4d70-9f24-d933f1e0b7b4",
   "metadata": {},
   "outputs": [
    {
     "name": "stdout",
     "output_type": "stream",
     "text": [
      "<class 'pandas.core.frame.DataFrame'>\n",
      "RangeIndex: 4521 entries, 0 to 4520\n",
      "Data columns (total 16 columns):\n",
      " #   Column     Non-Null Count  Dtype\n",
      "---  ------     --------------  -----\n",
      " 0   age        4521 non-null   int64\n",
      " 1   job        4521 non-null   int64\n",
      " 2   marital    4521 non-null   int64\n",
      " 3   education  4521 non-null   int64\n",
      " 4   default    4521 non-null   int64\n",
      " 5   balance    4521 non-null   int64\n",
      " 6   housing    4521 non-null   int64\n",
      " 7   loan       4521 non-null   int64\n",
      " 8   contact    4521 non-null   int64\n",
      " 9   day        4521 non-null   int64\n",
      " 10  month      4521 non-null   int64\n",
      " 11  campaign   4521 non-null   int64\n",
      " 12  pdays      4521 non-null   int64\n",
      " 13  previous   4521 non-null   int64\n",
      " 14  poutcome   4521 non-null   int64\n",
      " 15  y          4521 non-null   int64\n",
      "dtypes: int64(16)\n",
      "memory usage: 565.3 KB\n"
     ]
    }
   ],
   "source": [
    "# Look for numeric vs categorical data\n",
    "\n",
    "bank.info()"
   ]
  },
  {
   "cell_type": "code",
   "execution_count": 432,
   "id": "19290314-624b-4daf-98e6-f79444768e84",
   "metadata": {},
   "outputs": [
    {
     "name": "stdout",
     "output_type": "stream",
     "text": [
      "Missing Values:\n",
      "age          0\n",
      "job          0\n",
      "marital      0\n",
      "education    0\n",
      "default      0\n",
      "balance      0\n",
      "housing      0\n",
      "loan         0\n",
      "contact      0\n",
      "day          0\n",
      "month        0\n",
      "duration     0\n",
      "campaign     0\n",
      "pdays        0\n",
      "previous     0\n",
      "poutcome     0\n",
      "y            0\n",
      "dtype: int64\n"
     ]
    }
   ],
   "source": [
    "missing_values = bank.isnull().sum()\n",
    "print(\"Missing Values:\")\n",
    "print(missing_values)"
   ]
  },
  {
   "cell_type": "code",
   "execution_count": 433,
   "id": "cec9213a-2ab5-4a7d-a194-31950c43e330",
   "metadata": {},
   "outputs": [
    {
     "data": {
      "text/plain": [
       "(4521, 17)"
      ]
     },
     "execution_count": 433,
     "metadata": {},
     "output_type": "execute_result"
    }
   ],
   "source": [
    "bank.shape"
   ]
  },
  {
   "cell_type": "code",
   "execution_count": 434,
   "id": "155586a0-395b-41c0-bca6-fc319fcf87cb",
   "metadata": {},
   "outputs": [
    {
     "name": "stdout",
     "output_type": "stream",
     "text": [
      "age          0\n",
      "job          0\n",
      "marital      0\n",
      "education    0\n",
      "default      0\n",
      "balance      0\n",
      "housing      0\n",
      "loan         0\n",
      "contact      0\n",
      "day          0\n",
      "month        0\n",
      "duration     0\n",
      "campaign     0\n",
      "pdays        0\n",
      "previous     0\n",
      "poutcome     0\n",
      "y            0\n",
      "dtype: int64\n"
     ]
    }
   ],
   "source": [
    "missing_values = bank.isna().sum()\n",
    "print(missing_values)"
   ]
  },
  {
   "cell_type": "markdown",
   "id": "74ad19e7-8840-4e74-95c2-8eb9f790839a",
   "metadata": {},
   "source": [
    "## Find Categorical data"
   ]
  },
  {
   "cell_type": "code",
   "execution_count": 435,
   "id": "a04ae735-b7a4-49ef-8575-a9b6afcd8646",
   "metadata": {},
   "outputs": [
    {
     "name": "stdout",
     "output_type": "stream",
     "text": [
      "job    ['unemployed' 'services' 'management' 'blue-collar' 'self-employed'\n",
      " 'technician' 'entrepreneur' 'admin.' 'student' 'housemaid' 'retired'\n",
      " 'unknown']\n",
      "marital    ['married' 'single' 'divorced']\n",
      "education    ['primary' 'secondary' 'tertiary' 'unknown']\n",
      "default    ['no' 'yes']\n",
      "housing    ['no' 'yes']\n",
      "loan    ['no' 'yes']\n",
      "contact    ['cellular' 'unknown' 'telephone']\n",
      "month    ['oct' 'may' 'apr' 'jun' 'feb' 'aug' 'jan' 'jul' 'nov' 'sep' 'mar' 'dec']\n",
      "poutcome    ['unknown' 'failure' 'other' 'success']\n",
      "y    ['no' 'yes']\n"
     ]
    }
   ],
   "source": [
    "bk=bank.select_dtypes(include=\"object\")\n",
    "for x in bk.columns:\n",
    "    print(x+\"   \",bk[x].unique())"
   ]
  },
  {
   "cell_type": "code",
   "execution_count": 436,
   "id": "637a43fe-7792-44ca-9a46-c28e2641f49b",
   "metadata": {},
   "outputs": [],
   "source": [
    "# UCI site states this column should be removed for prediction purposes\n",
    "\n",
    "bank = bank.drop(columns=['duration'])"
   ]
  },
  {
   "cell_type": "code",
   "execution_count": 437,
   "id": "73e7c18d-d789-4ed0-b827-bad7d2ceaa27",
   "metadata": {},
   "outputs": [],
   "source": [
    "# Select numeric columns\n",
    "bk_numer=bank.select_dtypes(include=\"int\")"
   ]
  },
  {
   "cell_type": "code",
   "execution_count": null,
   "id": "6a952c7c-2372-42c7-a0bf-4f0d5438f3c3",
   "metadata": {},
   "outputs": [],
   "source": []
  },
  {
   "cell_type": "code",
   "execution_count": 438,
   "id": "6c541d17-862c-4473-8aa2-a9292211ea35",
   "metadata": {},
   "outputs": [
    {
     "data": {
      "text/html": [
       "<div>\n",
       "<style scoped>\n",
       "    .dataframe tbody tr th:only-of-type {\n",
       "        vertical-align: middle;\n",
       "    }\n",
       "\n",
       "    .dataframe tbody tr th {\n",
       "        vertical-align: top;\n",
       "    }\n",
       "\n",
       "    .dataframe thead th {\n",
       "        text-align: right;\n",
       "    }\n",
       "</style>\n",
       "<table border=\"1\" class=\"dataframe\">\n",
       "  <thead>\n",
       "    <tr style=\"text-align: right;\">\n",
       "      <th></th>\n",
       "      <th>age</th>\n",
       "      <th>balance</th>\n",
       "      <th>day</th>\n",
       "      <th>campaign</th>\n",
       "      <th>pdays</th>\n",
       "      <th>previous</th>\n",
       "    </tr>\n",
       "  </thead>\n",
       "  <tbody>\n",
       "    <tr>\n",
       "      <th>0</th>\n",
       "      <td>30</td>\n",
       "      <td>1787</td>\n",
       "      <td>19</td>\n",
       "      <td>1</td>\n",
       "      <td>-1</td>\n",
       "      <td>0</td>\n",
       "    </tr>\n",
       "    <tr>\n",
       "      <th>1</th>\n",
       "      <td>33</td>\n",
       "      <td>4789</td>\n",
       "      <td>11</td>\n",
       "      <td>1</td>\n",
       "      <td>339</td>\n",
       "      <td>4</td>\n",
       "    </tr>\n",
       "    <tr>\n",
       "      <th>2</th>\n",
       "      <td>35</td>\n",
       "      <td>1350</td>\n",
       "      <td>16</td>\n",
       "      <td>1</td>\n",
       "      <td>330</td>\n",
       "      <td>1</td>\n",
       "    </tr>\n",
       "    <tr>\n",
       "      <th>3</th>\n",
       "      <td>30</td>\n",
       "      <td>1476</td>\n",
       "      <td>3</td>\n",
       "      <td>4</td>\n",
       "      <td>-1</td>\n",
       "      <td>0</td>\n",
       "    </tr>\n",
       "    <tr>\n",
       "      <th>4</th>\n",
       "      <td>59</td>\n",
       "      <td>0</td>\n",
       "      <td>5</td>\n",
       "      <td>1</td>\n",
       "      <td>-1</td>\n",
       "      <td>0</td>\n",
       "    </tr>\n",
       "  </tbody>\n",
       "</table>\n",
       "</div>"
      ],
      "text/plain": [
       "   age  balance  day  campaign  pdays  previous\n",
       "0   30     1787   19         1     -1         0\n",
       "1   33     4789   11         1    339         4\n",
       "2   35     1350   16         1    330         1\n",
       "3   30     1476    3         4     -1         0\n",
       "4   59        0    5         1     -1         0"
      ]
     },
     "execution_count": 438,
     "metadata": {},
     "output_type": "execute_result"
    }
   ],
   "source": [
    "bk_numer.head()"
   ]
  },
  {
   "cell_type": "code",
   "execution_count": null,
   "id": "1ca2595e-a6ed-48bb-be07-8fcecf56e9ff",
   "metadata": {},
   "outputs": [],
   "source": []
  },
  {
   "cell_type": "code",
   "execution_count": null,
   "id": "8b9a9dc5-6e6d-4d72-8663-d270be31cef7",
   "metadata": {},
   "outputs": [],
   "source": []
  },
  {
   "cell_type": "markdown",
   "id": "b6d0395a-b606-40e9-ac94-de945f0261a9",
   "metadata": {},
   "source": [
    "# HotEncode Categorical to numerical"
   ]
  },
  {
   "cell_type": "code",
   "execution_count": 440,
   "id": "07280822-4ca3-45ee-8663-3aa1c2417538",
   "metadata": {},
   "outputs": [],
   "source": [
    "job_map = {'unemployed':0, 'services':1, 'management':2, 'blue-collar':3, 'self-employed':4,\n",
    " 'technician':5, 'entrepreneur':6, 'admin.':7, 'student':8, 'housemaid':9, 'retired':10,\n",
    " 'unknown':11}"
   ]
  },
  {
   "cell_type": "code",
   "execution_count": 441,
   "id": "8029fa7e-48d5-4551-b44a-d81330f231c1",
   "metadata": {},
   "outputs": [],
   "source": [
    "marital_map= {'married':0, 'single':1, 'divorced':2}"
   ]
  },
  {
   "cell_type": "code",
   "execution_count": 442,
   "id": "c71d7b7b-3960-4a8f-b7e5-b7cc079c3b3c",
   "metadata": {},
   "outputs": [],
   "source": [
    "education_map = {'primary':0, 'secondary':1, 'tertiary':2, 'unknown':3}"
   ]
  },
  {
   "cell_type": "code",
   "execution_count": 443,
   "id": "19cd04a2-0b02-419e-bb0c-29fde8339610",
   "metadata": {},
   "outputs": [],
   "source": [
    "default_map = {'no':0,'yes':1}"
   ]
  },
  {
   "cell_type": "code",
   "execution_count": 444,
   "id": "85175363-97a1-4fe5-bbc0-5b4952cf5e3c",
   "metadata": {},
   "outputs": [],
   "source": [
    "housing_map = {'no':0,'yes':1}"
   ]
  },
  {
   "cell_type": "code",
   "execution_count": 445,
   "id": "250df57c-b1b2-4b89-96c9-95df6b308ff0",
   "metadata": {},
   "outputs": [],
   "source": [
    "loan_map = {'no':0,'yes':1}"
   ]
  },
  {
   "cell_type": "code",
   "execution_count": 446,
   "id": "8cbf8525-1f93-4d1d-99b2-77ddb3db2f6c",
   "metadata": {},
   "outputs": [],
   "source": [
    "contact_map = {'cellular':0, 'unknown':1, 'telephone':2}"
   ]
  },
  {
   "cell_type": "code",
   "execution_count": 447,
   "id": "a41f711a-1d9a-42c0-b9c2-13507b424e27",
   "metadata": {},
   "outputs": [],
   "source": [
    "month_map = {'jan':0, 'feb':1, 'mar':2, 'apr':3, 'may':4,  'jun':5, 'jul':6, 'aug':7, 'sep':8,  'oct':9, 'nov':10, 'dec':11}"
   ]
  },
  {
   "cell_type": "code",
   "execution_count": 448,
   "id": "3f3f5894-e3f2-430b-9222-a11e8ad63149",
   "metadata": {},
   "outputs": [],
   "source": [
    "poutcome_map= {'unknown':0, 'failure':1, 'other':2, 'success':3}"
   ]
  },
  {
   "cell_type": "code",
   "execution_count": 449,
   "id": "6bb40d64-4b01-4194-be9b-96d0761fcd96",
   "metadata": {},
   "outputs": [],
   "source": [
    "y_map = {'no':0,'yes':1}"
   ]
  },
  {
   "cell_type": "code",
   "execution_count": 450,
   "id": "333862cb-0d08-4a40-a89c-145b2c324a04",
   "metadata": {},
   "outputs": [],
   "source": [
    "bank['job'] = bank['job'].map(job_map)"
   ]
  },
  {
   "cell_type": "code",
   "execution_count": 451,
   "id": "5b82ab58-f5d9-4dda-94cf-5f450f1d081f",
   "metadata": {},
   "outputs": [],
   "source": [
    "bank['marital'] = bank['marital'].map(marital_map)"
   ]
  },
  {
   "cell_type": "code",
   "execution_count": 452,
   "id": "58846c9d-8ffb-4eb9-aede-03cc23cc40ad",
   "metadata": {},
   "outputs": [],
   "source": [
    "bank['education'] = bank['education'].map(education_map)"
   ]
  },
  {
   "cell_type": "code",
   "execution_count": 453,
   "id": "376a1eb7-3d49-4857-a2dd-a311cedb53da",
   "metadata": {},
   "outputs": [],
   "source": [
    "bank['default'] = bank['default'].map(default_map)"
   ]
  },
  {
   "cell_type": "code",
   "execution_count": 454,
   "id": "58b7d0e3-a55e-4d86-ad85-73a2c11c4638",
   "metadata": {},
   "outputs": [],
   "source": [
    "bank['housing'] = bank['housing'].map(housing_map)"
   ]
  },
  {
   "cell_type": "code",
   "execution_count": 455,
   "id": "47a52c91-ba9a-4d62-9ae1-846efc06aec4",
   "metadata": {},
   "outputs": [],
   "source": [
    "bank['loan'] = bank['loan'].map(loan_map)"
   ]
  },
  {
   "cell_type": "code",
   "execution_count": null,
   "id": "d91ecedd-4b1a-4709-8083-b080aac11a70",
   "metadata": {},
   "outputs": [],
   "source": []
  },
  {
   "cell_type": "code",
   "execution_count": 456,
   "id": "bebc3775-0263-43f3-8a64-129ee66caef4",
   "metadata": {},
   "outputs": [],
   "source": [
    "bank['contact'] = bank['contact'].map(contact_map)\n",
    "bank['month'] = bank['month'].map(month_map)\n",
    "bank['poutcome'] = bank['poutcome'].map(poutcome_map)\n",
    "bank['y'] = bank['y'].map(y_map)"
   ]
  },
  {
   "cell_type": "code",
   "execution_count": null,
   "id": "0bf3dedc-2ab1-44a3-a59d-0bd385e4dbcc",
   "metadata": {},
   "outputs": [],
   "source": []
  },
  {
   "cell_type": "code",
   "execution_count": null,
   "id": "87c599e4-beb3-45b9-a8f6-31341d6595b4",
   "metadata": {},
   "outputs": [],
   "source": []
  },
  {
   "cell_type": "code",
   "execution_count": 457,
   "id": "32ad5b1f-c0c0-4378-9ca8-3cbf5ff02bb8",
   "metadata": {},
   "outputs": [
    {
     "data": {
      "text/html": [
       "<div>\n",
       "<style scoped>\n",
       "    .dataframe tbody tr th:only-of-type {\n",
       "        vertical-align: middle;\n",
       "    }\n",
       "\n",
       "    .dataframe tbody tr th {\n",
       "        vertical-align: top;\n",
       "    }\n",
       "\n",
       "    .dataframe thead th {\n",
       "        text-align: right;\n",
       "    }\n",
       "</style>\n",
       "<table border=\"1\" class=\"dataframe\">\n",
       "  <thead>\n",
       "    <tr style=\"text-align: right;\">\n",
       "      <th></th>\n",
       "      <th>age</th>\n",
       "      <th>job</th>\n",
       "      <th>marital</th>\n",
       "      <th>education</th>\n",
       "      <th>default</th>\n",
       "      <th>balance</th>\n",
       "      <th>housing</th>\n",
       "      <th>loan</th>\n",
       "      <th>contact</th>\n",
       "      <th>day</th>\n",
       "      <th>month</th>\n",
       "      <th>campaign</th>\n",
       "      <th>pdays</th>\n",
       "      <th>previous</th>\n",
       "      <th>poutcome</th>\n",
       "      <th>y</th>\n",
       "    </tr>\n",
       "  </thead>\n",
       "  <tbody>\n",
       "    <tr>\n",
       "      <th>0</th>\n",
       "      <td>30</td>\n",
       "      <td>0</td>\n",
       "      <td>0</td>\n",
       "      <td>0</td>\n",
       "      <td>0</td>\n",
       "      <td>1787</td>\n",
       "      <td>0</td>\n",
       "      <td>0</td>\n",
       "      <td>0</td>\n",
       "      <td>19</td>\n",
       "      <td>9</td>\n",
       "      <td>1</td>\n",
       "      <td>-1</td>\n",
       "      <td>0</td>\n",
       "      <td>0</td>\n",
       "      <td>0</td>\n",
       "    </tr>\n",
       "    <tr>\n",
       "      <th>1</th>\n",
       "      <td>33</td>\n",
       "      <td>1</td>\n",
       "      <td>0</td>\n",
       "      <td>1</td>\n",
       "      <td>0</td>\n",
       "      <td>4789</td>\n",
       "      <td>1</td>\n",
       "      <td>1</td>\n",
       "      <td>0</td>\n",
       "      <td>11</td>\n",
       "      <td>4</td>\n",
       "      <td>1</td>\n",
       "      <td>339</td>\n",
       "      <td>4</td>\n",
       "      <td>1</td>\n",
       "      <td>0</td>\n",
       "    </tr>\n",
       "    <tr>\n",
       "      <th>2</th>\n",
       "      <td>35</td>\n",
       "      <td>2</td>\n",
       "      <td>1</td>\n",
       "      <td>2</td>\n",
       "      <td>0</td>\n",
       "      <td>1350</td>\n",
       "      <td>1</td>\n",
       "      <td>0</td>\n",
       "      <td>0</td>\n",
       "      <td>16</td>\n",
       "      <td>3</td>\n",
       "      <td>1</td>\n",
       "      <td>330</td>\n",
       "      <td>1</td>\n",
       "      <td>1</td>\n",
       "      <td>0</td>\n",
       "    </tr>\n",
       "    <tr>\n",
       "      <th>3</th>\n",
       "      <td>30</td>\n",
       "      <td>2</td>\n",
       "      <td>0</td>\n",
       "      <td>2</td>\n",
       "      <td>0</td>\n",
       "      <td>1476</td>\n",
       "      <td>1</td>\n",
       "      <td>1</td>\n",
       "      <td>1</td>\n",
       "      <td>3</td>\n",
       "      <td>5</td>\n",
       "      <td>4</td>\n",
       "      <td>-1</td>\n",
       "      <td>0</td>\n",
       "      <td>0</td>\n",
       "      <td>0</td>\n",
       "    </tr>\n",
       "    <tr>\n",
       "      <th>4</th>\n",
       "      <td>59</td>\n",
       "      <td>3</td>\n",
       "      <td>0</td>\n",
       "      <td>1</td>\n",
       "      <td>0</td>\n",
       "      <td>0</td>\n",
       "      <td>1</td>\n",
       "      <td>0</td>\n",
       "      <td>1</td>\n",
       "      <td>5</td>\n",
       "      <td>4</td>\n",
       "      <td>1</td>\n",
       "      <td>-1</td>\n",
       "      <td>0</td>\n",
       "      <td>0</td>\n",
       "      <td>0</td>\n",
       "    </tr>\n",
       "  </tbody>\n",
       "</table>\n",
       "</div>"
      ],
      "text/plain": [
       "   age  job  marital  education  default  balance  housing  loan  contact  \\\n",
       "0   30    0        0          0        0     1787        0     0        0   \n",
       "1   33    1        0          1        0     4789        1     1        0   \n",
       "2   35    2        1          2        0     1350        1     0        0   \n",
       "3   30    2        0          2        0     1476        1     1        1   \n",
       "4   59    3        0          1        0        0        1     0        1   \n",
       "\n",
       "   day  month  campaign  pdays  previous  poutcome  y  \n",
       "0   19      9         1     -1         0         0  0  \n",
       "1   11      4         1    339         4         1  0  \n",
       "2   16      3         1    330         1         1  0  \n",
       "3    3      5         4     -1         0         0  0  \n",
       "4    5      4         1     -1         0         0  0  "
      ]
     },
     "execution_count": 457,
     "metadata": {},
     "output_type": "execute_result"
    }
   ],
   "source": [
    "bank.head()"
   ]
  },
  {
   "cell_type": "code",
   "execution_count": null,
   "id": "569adf8e-f3ca-4b16-9824-b5a2589c83c6",
   "metadata": {},
   "outputs": [],
   "source": []
  },
  {
   "cell_type": "code",
   "execution_count": null,
   "id": "d8488061-a6b7-4da1-a5e3-0be845e144a7",
   "metadata": {},
   "outputs": [],
   "source": []
  },
  {
   "cell_type": "code",
   "execution_count": 555,
   "id": "8a050eb6-8ba7-4fbe-b366-d049c76f591b",
   "metadata": {},
   "outputs": [
    {
     "name": "stdout",
     "output_type": "stream",
     "text": [
      "['job', 'marital', 'education', 'default', 'housing', 'loan', 'contact', 'month', 'poutcome']\n"
     ]
    }
   ],
   "source": [
    "# List of categorical data\n",
    "\n",
    "cat_list=list(bk.columns)\n",
    "cat_list.pop()\n",
    "print(cat_list)"
   ]
  },
  {
   "cell_type": "code",
   "execution_count": null,
   "id": "1672dfee-703a-42c6-bbbe-c2141d095217",
   "metadata": {},
   "outputs": [],
   "source": []
  },
  {
   "cell_type": "code",
   "execution_count": 460,
   "id": "6c081d14-234e-4665-bd8a-7e7f371ae620",
   "metadata": {},
   "outputs": [],
   "source": [
    "# Hot encoding of categorical data\n",
    "\n",
    "bank_hotencoded = pd.get_dummies(bank,columns=cat_list,dtype=int)"
   ]
  },
  {
   "cell_type": "code",
   "execution_count": 461,
   "id": "7c53a0de-a15c-4558-8d3c-eb36961a3fbb",
   "metadata": {},
   "outputs": [
    {
     "data": {
      "text/html": [
       "<div>\n",
       "<style scoped>\n",
       "    .dataframe tbody tr th:only-of-type {\n",
       "        vertical-align: middle;\n",
       "    }\n",
       "\n",
       "    .dataframe tbody tr th {\n",
       "        vertical-align: top;\n",
       "    }\n",
       "\n",
       "    .dataframe thead th {\n",
       "        text-align: right;\n",
       "    }\n",
       "</style>\n",
       "<table border=\"1\" class=\"dataframe\">\n",
       "  <thead>\n",
       "    <tr style=\"text-align: right;\">\n",
       "      <th></th>\n",
       "      <th>age</th>\n",
       "      <th>balance</th>\n",
       "      <th>day</th>\n",
       "      <th>campaign</th>\n",
       "      <th>pdays</th>\n",
       "      <th>previous</th>\n",
       "      <th>y</th>\n",
       "      <th>job_0</th>\n",
       "      <th>job_1</th>\n",
       "      <th>job_2</th>\n",
       "      <th>...</th>\n",
       "      <th>month_6</th>\n",
       "      <th>month_7</th>\n",
       "      <th>month_8</th>\n",
       "      <th>month_9</th>\n",
       "      <th>month_10</th>\n",
       "      <th>month_11</th>\n",
       "      <th>poutcome_0</th>\n",
       "      <th>poutcome_1</th>\n",
       "      <th>poutcome_2</th>\n",
       "      <th>poutcome_3</th>\n",
       "    </tr>\n",
       "  </thead>\n",
       "  <tbody>\n",
       "    <tr>\n",
       "      <th>0</th>\n",
       "      <td>30</td>\n",
       "      <td>1787</td>\n",
       "      <td>19</td>\n",
       "      <td>1</td>\n",
       "      <td>-1</td>\n",
       "      <td>0</td>\n",
       "      <td>0</td>\n",
       "      <td>1</td>\n",
       "      <td>0</td>\n",
       "      <td>0</td>\n",
       "      <td>...</td>\n",
       "      <td>0</td>\n",
       "      <td>0</td>\n",
       "      <td>0</td>\n",
       "      <td>1</td>\n",
       "      <td>0</td>\n",
       "      <td>0</td>\n",
       "      <td>1</td>\n",
       "      <td>0</td>\n",
       "      <td>0</td>\n",
       "      <td>0</td>\n",
       "    </tr>\n",
       "    <tr>\n",
       "      <th>1</th>\n",
       "      <td>33</td>\n",
       "      <td>4789</td>\n",
       "      <td>11</td>\n",
       "      <td>1</td>\n",
       "      <td>339</td>\n",
       "      <td>4</td>\n",
       "      <td>0</td>\n",
       "      <td>0</td>\n",
       "      <td>1</td>\n",
       "      <td>0</td>\n",
       "      <td>...</td>\n",
       "      <td>0</td>\n",
       "      <td>0</td>\n",
       "      <td>0</td>\n",
       "      <td>0</td>\n",
       "      <td>0</td>\n",
       "      <td>0</td>\n",
       "      <td>0</td>\n",
       "      <td>1</td>\n",
       "      <td>0</td>\n",
       "      <td>0</td>\n",
       "    </tr>\n",
       "    <tr>\n",
       "      <th>2</th>\n",
       "      <td>35</td>\n",
       "      <td>1350</td>\n",
       "      <td>16</td>\n",
       "      <td>1</td>\n",
       "      <td>330</td>\n",
       "      <td>1</td>\n",
       "      <td>0</td>\n",
       "      <td>0</td>\n",
       "      <td>0</td>\n",
       "      <td>1</td>\n",
       "      <td>...</td>\n",
       "      <td>0</td>\n",
       "      <td>0</td>\n",
       "      <td>0</td>\n",
       "      <td>0</td>\n",
       "      <td>0</td>\n",
       "      <td>0</td>\n",
       "      <td>0</td>\n",
       "      <td>1</td>\n",
       "      <td>0</td>\n",
       "      <td>0</td>\n",
       "    </tr>\n",
       "    <tr>\n",
       "      <th>3</th>\n",
       "      <td>30</td>\n",
       "      <td>1476</td>\n",
       "      <td>3</td>\n",
       "      <td>4</td>\n",
       "      <td>-1</td>\n",
       "      <td>0</td>\n",
       "      <td>0</td>\n",
       "      <td>0</td>\n",
       "      <td>0</td>\n",
       "      <td>1</td>\n",
       "      <td>...</td>\n",
       "      <td>0</td>\n",
       "      <td>0</td>\n",
       "      <td>0</td>\n",
       "      <td>0</td>\n",
       "      <td>0</td>\n",
       "      <td>0</td>\n",
       "      <td>1</td>\n",
       "      <td>0</td>\n",
       "      <td>0</td>\n",
       "      <td>0</td>\n",
       "    </tr>\n",
       "    <tr>\n",
       "      <th>4</th>\n",
       "      <td>59</td>\n",
       "      <td>0</td>\n",
       "      <td>5</td>\n",
       "      <td>1</td>\n",
       "      <td>-1</td>\n",
       "      <td>0</td>\n",
       "      <td>0</td>\n",
       "      <td>0</td>\n",
       "      <td>0</td>\n",
       "      <td>0</td>\n",
       "      <td>...</td>\n",
       "      <td>0</td>\n",
       "      <td>0</td>\n",
       "      <td>0</td>\n",
       "      <td>0</td>\n",
       "      <td>0</td>\n",
       "      <td>0</td>\n",
       "      <td>1</td>\n",
       "      <td>0</td>\n",
       "      <td>0</td>\n",
       "      <td>0</td>\n",
       "    </tr>\n",
       "  </tbody>\n",
       "</table>\n",
       "<p>5 rows × 51 columns</p>\n",
       "</div>"
      ],
      "text/plain": [
       "   age  balance  day  campaign  pdays  previous  y  job_0  job_1  job_2  ...  \\\n",
       "0   30     1787   19         1     -1         0  0      1      0      0  ...   \n",
       "1   33     4789   11         1    339         4  0      0      1      0  ...   \n",
       "2   35     1350   16         1    330         1  0      0      0      1  ...   \n",
       "3   30     1476    3         4     -1         0  0      0      0      1  ...   \n",
       "4   59        0    5         1     -1         0  0      0      0      0  ...   \n",
       "\n",
       "   month_6  month_7  month_8  month_9  month_10  month_11  poutcome_0  \\\n",
       "0        0        0        0        1         0         0           1   \n",
       "1        0        0        0        0         0         0           0   \n",
       "2        0        0        0        0         0         0           0   \n",
       "3        0        0        0        0         0         0           1   \n",
       "4        0        0        0        0         0         0           1   \n",
       "\n",
       "   poutcome_1  poutcome_2  poutcome_3  \n",
       "0           0           0           0  \n",
       "1           1           0           0  \n",
       "2           1           0           0  \n",
       "3           0           0           0  \n",
       "4           0           0           0  \n",
       "\n",
       "[5 rows x 51 columns]"
      ]
     },
     "execution_count": 461,
     "metadata": {},
     "output_type": "execute_result"
    }
   ],
   "source": [
    "bank_hotencoded.head()"
   ]
  },
  {
   "cell_type": "code",
   "execution_count": null,
   "id": "faeba7b4-e604-41d3-ad68-12733977e0a0",
   "metadata": {},
   "outputs": [],
   "source": []
  },
  {
   "cell_type": "code",
   "execution_count": 462,
   "id": "4720fd72-ad9b-491c-b3b2-9db425d4001e",
   "metadata": {},
   "outputs": [
    {
     "data": {
      "image/png": "[encoded data removed]",
      "text/plain": [
       "<Figure size 1200x800 with 6 Axes>"
      ]
     },
     "metadata": {},
     "output_type": "display_data"
    }
   ],
   "source": [
    "# Visualize distribution of numerical features (excluding the target variable)\n",
    "features = bk_numer\n",
    "\n",
    "# Adjust grid size for the number of features\n",
    "n_features = len(features.columns)\n",
    "n_cols = 4  # Number of columns\n",
    "n_rows = (n_features // n_cols) + (n_features % n_cols > 0)  # Dynamic number of rows\n",
    "\n",
    "plt.figure(figsize=(12, n_rows * 4))\n",
    "for i, feature in enumerate(features.columns, 1):\n",
    "    plt.subplot(n_rows, n_cols, i)  # Create a grid of subplots dynamically\n",
    "    sns.histplot(features[feature], kde=True, color='skyblue')\n",
    "    plt.title(f'Distribution of {feature}')\n",
    "plt.tight_layout()\n",
    "plt.show()"
   ]
  },
  {
   "cell_type": "code",
   "execution_count": null,
   "id": "ec22d05e-0eee-4286-99df-0ff27c97c7f0",
   "metadata": {},
   "outputs": [],
   "source": []
  },
  {
   "cell_type": "code",
   "execution_count": 547,
   "id": "91b7dab1-d72d-4cce-90c8-05956f2d830a",
   "metadata": {},
   "outputs": [
    {
     "name": "stdout",
     "output_type": "stream",
     "text": [
      "Number of outliers in each feature:\n",
      "age          38\n",
      "balance     506\n",
      "day           0\n",
      "campaign    318\n",
      "pdays       816\n",
      "previous    816\n",
      "dtype: int64\n"
     ]
    }
   ],
   "source": [
    "import seaborn as sns\n",
    "import matplotlib.pyplot as plt\n",
    "\n",
    "\n",
    "# Detect outliers using IQR for each numerical feature\n",
    "Q1 = bk_numer.quantile(0.25)\n",
    "Q3 = bk_numer.quantile(0.75)\n",
    "IQR = Q3 - Q1\n",
    "\n",
    "# Define outliers (values outside 1.5 * IQR from Q1 and Q3)\n",
    "outliers = ((bk_numer < (Q1 - 1.5 * IQR)) | \n",
    "            (bk_numer > (Q3 + 1.5 * IQR)))\n",
    "outlier_count = outliers.sum()\n",
    "\n",
    "# Print the number of outliers in each feature\n",
    "print(\"Number of outliers in each feature:\")\n",
    "print(outlier_count)\n",
    "\n"
   ]
  },
  {
   "cell_type": "code",
   "execution_count": null,
   "id": "0ea15ebd-7ec1-4990-9248-a3464505f7d2",
   "metadata": {},
   "outputs": [],
   "source": []
  },
  {
   "cell_type": "markdown",
   "id": "f580bfac-ef0a-43d1-b422-05954bde96e2",
   "metadata": {},
   "source": [
    "# Check for Imbalanced Data"
   ]
  },
  {
   "cell_type": "code",
   "execution_count": 395,
   "id": "a1a7f52a-6306-4b58-b574-dcae06fd87f8",
   "metadata": {},
   "outputs": [
    {
     "name": "stderr",
     "output_type": "stream",
     "text": [
      "C:\\Users\\Windows\\AppData\\Local\\Temp\\ipykernel_14200\\4237154604.py:9: FutureWarning: \n",
      "\n",
      "Passing `palette` without assigning `hue` is deprecated and will be removed in v0.14.0. Assign the `x` variable to `hue` and set `legend=False` for the same effect.\n",
      "\n",
      "  sns.barplot(x=target_counts.index, y=target_counts.values, palette='viridis')\n"
     ]
    },
    {
     "data": {
      "image/png": "[encoded data removed]",
      "text/plain": [
       "<Figure size 600x400 with 1 Axes>"
      ]
     },
     "metadata": {},
     "output_type": "display_data"
    }
   ],
   "source": [
    "import matplotlib.pyplot as plt\n",
    "import seaborn as sns\n",
    "\n",
    "# Count the occurrences of each target value\n",
    "target_counts = bank['y'].value_counts()\n",
    "\n",
    "# Plot a bar chart using matplotlib\n",
    "plt.figure(figsize=(6, 4))\n",
    "sns.barplot(x=target_counts.index, y=target_counts.values, palette='viridis')\n",
    "\n",
    "# Add labels and title\n",
    "plt.title('Distribution of Sales Results (Target Variable)', fontsize=16)\n",
    "plt.xlabel('Sale (n/y) (Target)', fontsize=12)\n",
    "plt.ylabel('Count', fontsize=12)\n",
    "plt.xticks(ticks=range(len(target_counts.index)), labels=target_counts.index, rotation=0)\n",
    "\n",
    "# Display the plot\n",
    "plt.show()"
   ]
  },
  {
   "cell_type": "code",
   "execution_count": null,
   "id": "08a48580-238f-4a82-aaa9-ebe0602dc933",
   "metadata": {},
   "outputs": [],
   "source": []
  },
  {
   "cell_type": "code",
   "execution_count": 398,
   "id": "ec60732e-6810-4c92-aca8-426628d370ba",
   "metadata": {},
   "outputs": [],
   "source": [
    "# Split features and target variable\n",
    "X = bank_hotencoded.drop('y', axis=1)\n",
    "y = bank_hotencoded['y']"
   ]
  },
  {
   "cell_type": "code",
   "execution_count": 400,
   "id": "b3222681-311d-483e-9771-e960b893a99a",
   "metadata": {},
   "outputs": [
    {
     "data": {
      "text/plain": [
       "((4521, 50), (4521,))"
      ]
     },
     "execution_count": 400,
     "metadata": {},
     "output_type": "execute_result"
    }
   ],
   "source": [
    "X.shape,y.shape"
   ]
  },
  {
   "cell_type": "code",
   "execution_count": 402,
   "id": "78ca1ceb-eae7-46c2-9f15-593d84085365",
   "metadata": {},
   "outputs": [
    {
     "data": {
      "text/plain": [
       "((3616, 50), (905, 50), (3616,), (905,))"
      ]
     },
     "execution_count": 402,
     "metadata": {},
     "output_type": "execute_result"
    }
   ],
   "source": [
    "X_train, X_test, y_train, y_test = train_test_split(X, y, test_size=0.2, random_state=42)\n",
    "X_train.shape, X_test.shape, y_train.shape, y_test.shape"
   ]
  },
  {
   "cell_type": "code",
   "execution_count": 536,
   "id": "717f39ce-1828-4d21-a3c2-54426d8b59ae",
   "metadata": {},
   "outputs": [
    {
     "name": "stdout",
     "output_type": "stream",
     "text": [
      "y\n",
      "0    807\n",
      "1     98\n",
      "Name: count, dtype: int64\n"
     ]
    }
   ],
   "source": [
    "print(pd.Series(y_test).value_counts())"
   ]
  },
  {
   "cell_type": "code",
   "execution_count": 404,
   "id": "a3d5f29b-b09e-44e0-b38f-2d4d71ed4898",
   "metadata": {},
   "outputs": [],
   "source": [
    "smote = SMOTE(random_state=42)\n",
    "X_train_resampled, y_train_resampled = smote.fit_resample(X_train, y_train)"
   ]
  },
  {
   "cell_type": "code",
   "execution_count": 406,
   "id": "ca4b51d5-1421-43a8-8fe6-34fbec3b2204",
   "metadata": {},
   "outputs": [
    {
     "name": "stdout",
     "output_type": "stream",
     "text": [
      "Class distribution in the resampled training set:\n",
      "y\n",
      "0    3193\n",
      "1    3193\n",
      "Name: count, dtype: int64\n"
     ]
    }
   ],
   "source": [
    "print(\"Class distribution in the resampled training set:\")\n",
    "print(pd.Series(y_train_resampled).value_counts())"
   ]
  },
  {
   "cell_type": "code",
   "execution_count": null,
   "id": "ef049477-c675-493f-9e61-6e3ed9dde707",
   "metadata": {},
   "outputs": [],
   "source": []
  },
  {
   "cell_type": "markdown",
   "id": "2d2f3ce0-8b91-4730-bf9e-c9a4c1b4d320",
   "metadata": {},
   "source": [
    "# Implement RandomTree Classifier\n"
   ]
  },
  {
   "cell_type": "code",
   "execution_count": null,
   "id": "4bef3c24-9e55-45de-8157-75ad02d6bdb4",
   "metadata": {},
   "outputs": [],
   "source": []
  },
  {
   "cell_type": "code",
   "execution_count": null,
   "id": "0bc2c925-5e86-4e4d-abe4-91cf87edf55c",
   "metadata": {},
   "outputs": [],
   "source": [
    "from sklearn.preprocessing import StandardScaler\n",
    "from sklearn.ensemble import RandomForestClassifier\n",
    "from sklearn.metrics import accuracy_score\n",
    "from sklearn.model_selection import GridSearchCV\n",
    "\n",
    "#def run_model(test_split):\n",
    "\n",
    "    #X_train, X_test, y_train, y_test = train_test_split(X, y, test_size = test_split, random_state = 20)\n",
    "    #Standardize features by removing the mean and scaling to unit variance\n",
    "\n",
    "rf = RandomForestClassifier()\n",
    "\n",
    "# Define hyperparameter grid\n",
    "param_grid = {\n",
    "    'n_estimators': [50, 100,200],\n",
    "    'max_depth':[5,10,20],\n",
    "    'min_samples_leaf':[2,3,4],\n",
    "    'criterion' :['gini','entropy']\n",
    "     \n",
    "}\n",
    "\n",
    "# Grid Search\n",
    "grid_search = GridSearchCV(estimator=rf, param_grid=param_grid, cv=5, scoring='accuracy', verbose=0)\n",
    "grid_search.fit(X_train_resampled, y_train_resampled)\n",
    "\n",
    "best_model = grid_search.best_estimator_\n",
    "\n",
    "y_pred = best_model.predict(X_test)\n",
    "\n",
    "\n",
    "# mse_RF = mean_squared_error(y_test, y_pred)\n",
    "# mae_RF = mean_absolute_error(y_test, y_pred)\n",
    "# R2 = r2_score(y_test,y_pred_RF)\n",
    "# print('Mean squared error using Random Forest: ', mse_RF)\n",
    "# print('Mean absolute error Using Random Forest: ', mae_RF)\n",
    "# print('R2 Score: ' , R2)\n",
    "\n",
    "#Feature ranking...\n",
    "import pandas as pd\n",
    "feature_list = list(X.columns)\n",
    "feature_imp = pd.Series(best_model.feature_importances_, index=feature_list).sort_values(ascending=False)\n",
    "print(feature_imp)\n",
    "\n",
    "\n",
    "\n",
    "splits = [0.2,0.25, 0.3]\n",
    "\n",
    "# for split in splits:\n",
    "#     run_model(split)"
   ]
  },
  {
   "cell_type": "code",
   "execution_count": null,
   "id": "fc30ef2c-67e0-4d31-9410-4d190b51347c",
   "metadata": {},
   "outputs": [],
   "source": []
  },
  {
   "cell_type": "code",
   "execution_count": null,
   "id": "e0b65915-eb78-4734-b451-be3489725e02",
   "metadata": {},
   "outputs": [],
   "source": [
    "\n",
    "# Generate confusion matrix\n",
    "cm = confusion_matrix(y_test, y_pred)\n",
    "\n",
    "# Create a heatmap for the confusion matrix with appropriate labels\n",
    "sns.heatmap(cm, annot=True, fmt='d', cmap='Blues', xticklabels=['Predicted Class 0', 'Predicted Class 1'], yticklabels=['True Benign 0', 'True Malignan 1'])\n",
    "\n",
    "\n",
    "\n",
    "# Add labels and title to the plot\n",
    "plt.xlabel('Predicted')\n",
    "plt.ylabel('True')\n",
    "plt.title('Confusion Matrix')\n",
    "plt.show()\n",
    "\n",
    "# Print classification report\n",
    "print(classification_report(y_test, y_pred))"
   ]
  },
  {
   "cell_type": "code",
   "execution_count": null,
   "id": "3d053bfb-56ac-44bf-8315-b10d5bc34b12",
   "metadata": {},
   "outputs": [],
   "source": []
  },
  {
   "cell_type": "code",
   "execution_count": null,
   "id": "e1d8f307-433f-4698-9441-8423f4bbde08",
   "metadata": {},
   "outputs": [],
   "source": []
  }
 ],
 "metadata": {
  "kernelspec": {
   "display_name": "Python 3 (ipykernel)",
   "language": "python",
   "name": "python3"
  },
  "language_info": {
   "codemirror_mode": {
    "name": "ipython",
    "version": 3
   },
   "file_extension": ".py",
   "mimetype": "text/x-python",
   "name": "python",
   "nbconvert_exporter": "python",
   "pygments_lexer": "ipython3",
   "version": "3.12.3"
  }
 },
 "nbformat": 4,
 "nbformat_minor": 5
}
