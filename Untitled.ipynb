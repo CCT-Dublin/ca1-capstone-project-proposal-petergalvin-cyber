{
 "cells": [
  {
   "cell_type": "code",
   "execution_count": 1,
   "id": "1f93e442-6156-49f8-a9c2-4d6c054d21bc",
   "metadata": {},
   "outputs": [
    {
     "name": "stdout",
     "output_type": "stream",
     "text": [
      "Requirement already satisfied: scikeras[tensorflow] in c:\\users\\windows\\anaconda3\\lib\\site-packages (0.13.0)\n",
      "Requirement already satisfied: keras>=3.2.0 in c:\\users\\windows\\anaconda3\\lib\\site-packages (from scikeras[tensorflow]) (3.6.0)\n",
      "Requirement already satisfied: scikit-learn>=1.4.2 in c:\\users\\windows\\anaconda3\\lib\\site-packages (from scikeras[tensorflow]) (1.4.2)\n",
      "Requirement already satisfied: tensorflow>=2.16.1 in c:\\users\\windows\\anaconda3\\lib\\site-packages (from scikeras[tensorflow]) (2.18.0)\n",
      "Requirement already satisfied: absl-py in c:\\users\\windows\\anaconda3\\lib\\site-packages (from keras>=3.2.0->scikeras[tensorflow]) (2.1.0)\n",
      "Requirement already satisfied: numpy in c:\\users\\windows\\anaconda3\\lib\\site-packages (from keras>=3.2.0->scikeras[tensorflow]) (1.26.4)\n",
      "Requirement already satisfied: rich in c:\\users\\windows\\anaconda3\\lib\\site-packages (from keras>=3.2.0->scikeras[tensorflow]) (13.3.5)\n",
      "Requirement already satisfied: namex in c:\\users\\windows\\anaconda3\\lib\\site-packages (from keras>=3.2.0->scikeras[tensorflow]) (0.0.8)\n",
      "Requirement already satisfied: h5py in c:\\users\\windows\\anaconda3\\lib\\site-packages (from keras>=3.2.0->scikeras[tensorflow]) (3.11.0)\n",
      "Requirement already satisfied: optree in c:\\users\\windows\\anaconda3\\lib\\site-packages (from keras>=3.2.0->scikeras[tensorflow]) (0.13.0)\n",
      "Requirement already satisfied: ml-dtypes in c:\\users\\windows\\anaconda3\\lib\\site-packages (from keras>=3.2.0->scikeras[tensorflow]) (0.4.1)\n",
      "Requirement already satisfied: packaging in c:\\users\\windows\\anaconda3\\lib\\site-packages (from keras>=3.2.0->scikeras[tensorflow]) (23.2)\n",
      "Requirement already satisfied: scipy>=1.6.0 in c:\\users\\windows\\anaconda3\\lib\\site-packages (from scikit-learn>=1.4.2->scikeras[tensorflow]) (1.13.1)\n",
      "Requirement already satisfied: joblib>=1.2.0 in c:\\users\\windows\\anaconda3\\lib\\site-packages (from scikit-learn>=1.4.2->scikeras[tensorflow]) (1.4.2)\n",
      "Requirement already satisfied: threadpoolctl>=2.0.0 in c:\\users\\windows\\anaconda3\\lib\\site-packages (from scikit-learn>=1.4.2->scikeras[tensorflow]) (2.2.0)\n",
      "Requirement already satisfied: tensorflow-intel==2.18.0 in c:\\users\\windows\\anaconda3\\lib\\site-packages (from tensorflow>=2.16.1->scikeras[tensorflow]) (2.18.0)\n",
      "Requirement already satisfied: astunparse>=1.6.0 in c:\\users\\windows\\anaconda3\\lib\\site-packages (from tensorflow-intel==2.18.0->tensorflow>=2.16.1->scikeras[tensorflow]) (1.6.3)\n",
      "Requirement already satisfied: flatbuffers>=24.3.25 in c:\\users\\windows\\anaconda3\\lib\\site-packages (from tensorflow-intel==2.18.0->tensorflow>=2.16.1->scikeras[tensorflow]) (24.3.25)\n",
      "Requirement already satisfied: gast!=0.5.0,!=0.5.1,!=0.5.2,>=0.2.1 in c:\\users\\windows\\anaconda3\\lib\\site-packages (from tensorflow-intel==2.18.0->tensorflow>=2.16.1->scikeras[tensorflow]) (0.6.0)\n",
      "Requirement already satisfied: google-pasta>=0.1.1 in c:\\users\\windows\\anaconda3\\lib\\site-packages (from tensorflow-intel==2.18.0->tensorflow>=2.16.1->scikeras[tensorflow]) (0.2.0)\n",
      "Requirement already satisfied: libclang>=13.0.0 in c:\\users\\windows\\anaconda3\\lib\\site-packages (from tensorflow-intel==2.18.0->tensorflow>=2.16.1->scikeras[tensorflow]) (18.1.1)\n",
      "Requirement already satisfied: opt-einsum>=2.3.2 in c:\\users\\windows\\anaconda3\\lib\\site-packages (from tensorflow-intel==2.18.0->tensorflow>=2.16.1->scikeras[tensorflow]) (3.4.0)\n",
      "Requirement already satisfied: protobuf!=4.21.0,!=4.21.1,!=4.21.2,!=4.21.3,!=4.21.4,!=4.21.5,<6.0.0dev,>=3.20.3 in c:\\users\\windows\\anaconda3\\lib\\site-packages (from tensorflow-intel==2.18.0->tensorflow>=2.16.1->scikeras[tensorflow]) (5.26.1)\n",
      "Requirement already satisfied: requests<3,>=2.21.0 in c:\\users\\windows\\anaconda3\\lib\\site-packages (from tensorflow-intel==2.18.0->tensorflow>=2.16.1->scikeras[tensorflow]) (2.32.2)\n",
      "Requirement already satisfied: setuptools in c:\\users\\windows\\anaconda3\\lib\\site-packages (from tensorflow-intel==2.18.0->tensorflow>=2.16.1->scikeras[tensorflow]) (69.5.1)\n",
      "Requirement already satisfied: six>=1.12.0 in c:\\users\\windows\\anaconda3\\lib\\site-packages (from tensorflow-intel==2.18.0->tensorflow>=2.16.1->scikeras[tensorflow]) (1.16.0)\n",
      "Requirement already satisfied: termcolor>=1.1.0 in c:\\users\\windows\\anaconda3\\lib\\site-packages (from tensorflow-intel==2.18.0->tensorflow>=2.16.1->scikeras[tensorflow]) (2.5.0)\n",
      "Requirement already satisfied: typing-extensions>=3.6.6 in c:\\users\\windows\\anaconda3\\lib\\site-packages (from tensorflow-intel==2.18.0->tensorflow>=2.16.1->scikeras[tensorflow]) (4.11.0)\n",
      "Requirement already satisfied: wrapt>=1.11.0 in c:\\users\\windows\\anaconda3\\lib\\site-packages (from tensorflow-intel==2.18.0->tensorflow>=2.16.1->scikeras[tensorflow]) (1.14.1)\n",
      "Requirement already satisfied: grpcio<2.0,>=1.24.3 in c:\\users\\windows\\anaconda3\\lib\\site-packages (from tensorflow-intel==2.18.0->tensorflow>=2.16.1->scikeras[tensorflow]) (1.67.1)\n",
      "Requirement already satisfied: tensorboard<2.19,>=2.18 in c:\\users\\windows\\anaconda3\\lib\\site-packages (from tensorflow-intel==2.18.0->tensorflow>=2.16.1->scikeras[tensorflow]) (2.18.0)\n",
      "Requirement already satisfied: markdown-it-py<3.0.0,>=2.2.0 in c:\\users\\windows\\anaconda3\\lib\\site-packages (from rich->keras>=3.2.0->scikeras[tensorflow]) (2.2.0)\n",
      "Requirement already satisfied: pygments<3.0.0,>=2.13.0 in c:\\users\\windows\\anaconda3\\lib\\site-packages (from rich->keras>=3.2.0->scikeras[tensorflow]) (2.15.1)\n",
      "Requirement already satisfied: wheel<1.0,>=0.23.0 in c:\\users\\windows\\anaconda3\\lib\\site-packages (from astunparse>=1.6.0->tensorflow-intel==2.18.0->tensorflow>=2.16.1->scikeras[tensorflow]) (0.43.0)\n",
      "Requirement already satisfied: mdurl~=0.1 in c:\\users\\windows\\anaconda3\\lib\\site-packages (from markdown-it-py<3.0.0,>=2.2.0->rich->keras>=3.2.0->scikeras[tensorflow]) (0.1.0)\n",
      "Requirement already satisfied: charset-normalizer<4,>=2 in c:\\users\\windows\\anaconda3\\lib\\site-packages (from requests<3,>=2.21.0->tensorflow-intel==2.18.0->tensorflow>=2.16.1->scikeras[tensorflow]) (2.0.4)\n",
      "Requirement already satisfied: idna<4,>=2.5 in c:\\users\\windows\\anaconda3\\lib\\site-packages (from requests<3,>=2.21.0->tensorflow-intel==2.18.0->tensorflow>=2.16.1->scikeras[tensorflow]) (3.7)\n",
      "Requirement already satisfied: urllib3<3,>=1.21.1 in c:\\users\\windows\\anaconda3\\lib\\site-packages (from requests<3,>=2.21.0->tensorflow-intel==2.18.0->tensorflow>=2.16.1->scikeras[tensorflow]) (2.2.2)\n",
      "Requirement already satisfied: certifi>=2017.4.17 in c:\\users\\windows\\anaconda3\\lib\\site-packages (from requests<3,>=2.21.0->tensorflow-intel==2.18.0->tensorflow>=2.16.1->scikeras[tensorflow]) (2024.8.30)\n",
      "Requirement already satisfied: markdown>=2.6.8 in c:\\users\\windows\\anaconda3\\lib\\site-packages (from tensorboard<2.19,>=2.18->tensorflow-intel==2.18.0->tensorflow>=2.16.1->scikeras[tensorflow]) (3.4.1)\n",
      "Requirement already satisfied: tensorboard-data-server<0.8.0,>=0.7.0 in c:\\users\\windows\\anaconda3\\lib\\site-packages (from tensorboard<2.19,>=2.18->tensorflow-intel==2.18.0->tensorflow>=2.16.1->scikeras[tensorflow]) (0.7.2)\n",
      "Requirement already satisfied: werkzeug>=1.0.1 in c:\\users\\windows\\anaconda3\\lib\\site-packages (from tensorboard<2.19,>=2.18->tensorflow-intel==2.18.0->tensorflow>=2.16.1->scikeras[tensorflow]) (3.0.3)\n",
      "Requirement already satisfied: MarkupSafe>=2.1.1 in c:\\users\\windows\\anaconda3\\lib\\site-packages (from werkzeug>=1.0.1->tensorboard<2.19,>=2.18->tensorflow-intel==2.18.0->tensorflow>=2.16.1->scikeras[tensorflow]) (2.1.3)\n",
      "Note: you may need to restart the kernel to use updated packages.\n"
     ]
    }
   ],
   "source": [
    "pip install scikeras[tensorflow]"
   ]
  },
  {
   "cell_type": "code",
   "execution_count": 3,
   "id": "49ff03e5-3462-40f4-94ac-88ed1cde7edb",
   "metadata": {},
   "outputs": [],
   "source": [
    "import numpy as np\n",
    "import pandas as pd\n",
    "import matplotlib.pyplot as plt\n",
    "import seaborn as sns\n",
    "from tensorflow.keras.models import Sequential\n",
    "from tensorflow.keras.layers import Dense, Dropout, BatchNormalization\n",
    "from tensorflow.keras.optimizers import Adam\n",
    "from tensorflow.keras.callbacks import EarlyStopping\n",
    "from sklearn.model_selection import train_test_split\n",
    "from sklearn.preprocessing import StandardScaler\n",
    "from imblearn.over_sampling import SMOTE\n",
    "from sklearn.metrics import classification_report\n",
    "from sklearn.model_selection import RandomizedSearchCV\n",
    "#from tensorflow.keras.wrappers.scikit_learn import KerasClassifier\n",
    "from scikeras.wrappers import KerasClassifier, KerasRegressor"
   ]
  },
  {
   "cell_type": "code",
   "execution_count": 7,
   "id": "e6e419ef-f1fd-4d5d-8565-302a6b7c0b59",
   "metadata": {
    "scrolled": true
   },
   "outputs": [
    {
     "data": {
      "text/html": [
       "<div>\n",
       "<style scoped>\n",
       "    .dataframe tbody tr th:only-of-type {\n",
       "        vertical-align: middle;\n",
       "    }\n",
       "\n",
       "    .dataframe tbody tr th {\n",
       "        vertical-align: top;\n",
       "    }\n",
       "\n",
       "    .dataframe thead th {\n",
       "        text-align: right;\n",
       "    }\n",
       "</style>\n",
       "<table border=\"1\" class=\"dataframe\">\n",
       "  <thead>\n",
       "    <tr style=\"text-align: right;\">\n",
       "      <th></th>\n",
       "      <th>age</th>\n",
       "      <th>job</th>\n",
       "      <th>marital</th>\n",
       "      <th>education</th>\n",
       "      <th>default</th>\n",
       "      <th>balance</th>\n",
       "      <th>housing</th>\n",
       "      <th>loan</th>\n",
       "      <th>contact</th>\n",
       "      <th>day</th>\n",
       "      <th>month</th>\n",
       "      <th>duration</th>\n",
       "      <th>campaign</th>\n",
       "      <th>pdays</th>\n",
       "      <th>previous</th>\n",
       "      <th>poutcome</th>\n",
       "      <th>y</th>\n",
       "    </tr>\n",
       "  </thead>\n",
       "  <tbody>\n",
       "    <tr>\n",
       "      <th>0</th>\n",
       "      <td>30</td>\n",
       "      <td>unemployed</td>\n",
       "      <td>married</td>\n",
       "      <td>primary</td>\n",
       "      <td>no</td>\n",
       "      <td>1787</td>\n",
       "      <td>no</td>\n",
       "      <td>no</td>\n",
       "      <td>cellular</td>\n",
       "      <td>19</td>\n",
       "      <td>oct</td>\n",
       "      <td>79</td>\n",
       "      <td>1</td>\n",
       "      <td>-1</td>\n",
       "      <td>0</td>\n",
       "      <td>unknown</td>\n",
       "      <td>no</td>\n",
       "    </tr>\n",
       "    <tr>\n",
       "      <th>1</th>\n",
       "      <td>33</td>\n",
       "      <td>services</td>\n",
       "      <td>married</td>\n",
       "      <td>secondary</td>\n",
       "      <td>no</td>\n",
       "      <td>4789</td>\n",
       "      <td>yes</td>\n",
       "      <td>yes</td>\n",
       "      <td>cellular</td>\n",
       "      <td>11</td>\n",
       "      <td>may</td>\n",
       "      <td>220</td>\n",
       "      <td>1</td>\n",
       "      <td>339</td>\n",
       "      <td>4</td>\n",
       "      <td>failure</td>\n",
       "      <td>no</td>\n",
       "    </tr>\n",
       "    <tr>\n",
       "      <th>2</th>\n",
       "      <td>35</td>\n",
       "      <td>management</td>\n",
       "      <td>single</td>\n",
       "      <td>tertiary</td>\n",
       "      <td>no</td>\n",
       "      <td>1350</td>\n",
       "      <td>yes</td>\n",
       "      <td>no</td>\n",
       "      <td>cellular</td>\n",
       "      <td>16</td>\n",
       "      <td>apr</td>\n",
       "      <td>185</td>\n",
       "      <td>1</td>\n",
       "      <td>330</td>\n",
       "      <td>1</td>\n",
       "      <td>failure</td>\n",
       "      <td>no</td>\n",
       "    </tr>\n",
       "    <tr>\n",
       "      <th>3</th>\n",
       "      <td>30</td>\n",
       "      <td>management</td>\n",
       "      <td>married</td>\n",
       "      <td>tertiary</td>\n",
       "      <td>no</td>\n",
       "      <td>1476</td>\n",
       "      <td>yes</td>\n",
       "      <td>yes</td>\n",
       "      <td>unknown</td>\n",
       "      <td>3</td>\n",
       "      <td>jun</td>\n",
       "      <td>199</td>\n",
       "      <td>4</td>\n",
       "      <td>-1</td>\n",
       "      <td>0</td>\n",
       "      <td>unknown</td>\n",
       "      <td>no</td>\n",
       "    </tr>\n",
       "    <tr>\n",
       "      <th>4</th>\n",
       "      <td>59</td>\n",
       "      <td>blue-collar</td>\n",
       "      <td>married</td>\n",
       "      <td>secondary</td>\n",
       "      <td>no</td>\n",
       "      <td>0</td>\n",
       "      <td>yes</td>\n",
       "      <td>no</td>\n",
       "      <td>unknown</td>\n",
       "      <td>5</td>\n",
       "      <td>may</td>\n",
       "      <td>226</td>\n",
       "      <td>1</td>\n",
       "      <td>-1</td>\n",
       "      <td>0</td>\n",
       "      <td>unknown</td>\n",
       "      <td>no</td>\n",
       "    </tr>\n",
       "  </tbody>\n",
       "</table>\n",
       "</div>"
      ],
      "text/plain": [
       "   age          job  marital  education default  balance housing loan  \\\n",
       "0   30   unemployed  married    primary      no     1787      no   no   \n",
       "1   33     services  married  secondary      no     4789     yes  yes   \n",
       "2   35   management   single   tertiary      no     1350     yes   no   \n",
       "3   30   management  married   tertiary      no     1476     yes  yes   \n",
       "4   59  blue-collar  married  secondary      no        0     yes   no   \n",
       "\n",
       "    contact  day month  duration  campaign  pdays  previous poutcome   y  \n",
       "0  cellular   19   oct        79         1     -1         0  unknown  no  \n",
       "1  cellular   11   may       220         1    339         4  failure  no  \n",
       "2  cellular   16   apr       185         1    330         1  failure  no  \n",
       "3   unknown    3   jun       199         4     -1         0  unknown  no  \n",
       "4   unknown    5   may       226         1     -1         0  unknown  no  "
      ]
     },
     "execution_count": 7,
     "metadata": {},
     "output_type": "execute_result"
    }
   ],
   "source": [
    "bank = pd.read_csv(\"bank.csv\",sep=\";\")\n",
    "bank.head()"
   ]
  },
  {
   "cell_type": "code",
   "execution_count": 9,
   "id": "f88af452-a058-4d70-9f24-d933f1e0b7b4",
   "metadata": {},
   "outputs": [
    {
     "name": "stdout",
     "output_type": "stream",
     "text": [
      "<class 'pandas.core.frame.DataFrame'>\n",
      "RangeIndex: 4521 entries, 0 to 4520\n",
      "Data columns (total 17 columns):\n",
      " #   Column     Non-Null Count  Dtype \n",
      "---  ------     --------------  ----- \n",
      " 0   age        4521 non-null   int64 \n",
      " 1   job        4521 non-null   object\n",
      " 2   marital    4521 non-null   object\n",
      " 3   education  4521 non-null   object\n",
      " 4   default    4521 non-null   object\n",
      " 5   balance    4521 non-null   int64 \n",
      " 6   housing    4521 non-null   object\n",
      " 7   loan       4521 non-null   object\n",
      " 8   contact    4521 non-null   object\n",
      " 9   day        4521 non-null   int64 \n",
      " 10  month      4521 non-null   object\n",
      " 11  duration   4521 non-null   int64 \n",
      " 12  campaign   4521 non-null   int64 \n",
      " 13  pdays      4521 non-null   int64 \n",
      " 14  previous   4521 non-null   int64 \n",
      " 15  poutcome   4521 non-null   object\n",
      " 16  y          4521 non-null   object\n",
      "dtypes: int64(7), object(10)\n",
      "memory usage: 600.6+ KB\n"
     ]
    }
   ],
   "source": [
    "bank.info()"
   ]
  },
  {
   "cell_type": "code",
   "execution_count": 11,
   "id": "19290314-624b-4daf-98e6-f79444768e84",
   "metadata": {},
   "outputs": [
    {
     "name": "stdout",
     "output_type": "stream",
     "text": [
      "Missing Values:\n",
      "age          0\n",
      "job          0\n",
      "marital      0\n",
      "education    0\n",
      "default      0\n",
      "balance      0\n",
      "housing      0\n",
      "loan         0\n",
      "contact      0\n",
      "day          0\n",
      "month        0\n",
      "duration     0\n",
      "campaign     0\n",
      "pdays        0\n",
      "previous     0\n",
      "poutcome     0\n",
      "y            0\n",
      "dtype: int64\n"
     ]
    }
   ],
   "source": [
    "missing_values = bank.isnull().sum()\n",
    "print(\"Missing Values:\")\n",
    "print(missing_values)"
   ]
  },
  {
   "cell_type": "code",
   "execution_count": 13,
   "id": "cec9213a-2ab5-4a7d-a194-31950c43e330",
   "metadata": {},
   "outputs": [
    {
     "data": {
      "text/plain": [
       "(4521, 17)"
      ]
     },
     "execution_count": 13,
     "metadata": {},
     "output_type": "execute_result"
    }
   ],
   "source": [
    "bank.shape"
   ]
  },
  {
   "cell_type": "code",
   "execution_count": 15,
   "id": "155586a0-395b-41c0-bca6-fc319fcf87cb",
   "metadata": {},
   "outputs": [
    {
     "name": "stdout",
     "output_type": "stream",
     "text": [
      "age          0\n",
      "job          0\n",
      "marital      0\n",
      "education    0\n",
      "default      0\n",
      "balance      0\n",
      "housing      0\n",
      "loan         0\n",
      "contact      0\n",
      "day          0\n",
      "month        0\n",
      "duration     0\n",
      "campaign     0\n",
      "pdays        0\n",
      "previous     0\n",
      "poutcome     0\n",
      "y            0\n",
      "dtype: int64\n"
     ]
    }
   ],
   "source": [
    "missing_values = bank.isna().sum()\n",
    "print(missing_values)"
   ]
  },
  {
   "cell_type": "code",
   "execution_count": null,
   "id": "038824cb-0df5-49c8-832a-10de12041464",
   "metadata": {},
   "outputs": [],
   "source": []
  },
  {
   "cell_type": "code",
   "execution_count": 17,
   "id": "a04ae735-b7a4-49ef-8575-a9b6afcd8646",
   "metadata": {},
   "outputs": [
    {
     "name": "stdout",
     "output_type": "stream",
     "text": [
      "job    ['unemployed' 'services' 'management' 'blue-collar' 'self-employed'\n",
      " 'technician' 'entrepreneur' 'admin.' 'student' 'housemaid' 'retired'\n",
      " 'unknown']\n",
      "marital    ['married' 'single' 'divorced']\n",
      "education    ['primary' 'secondary' 'tertiary' 'unknown']\n",
      "default    ['no' 'yes']\n",
      "housing    ['no' 'yes']\n",
      "loan    ['no' 'yes']\n",
      "contact    ['cellular' 'unknown' 'telephone']\n",
      "month    ['oct' 'may' 'apr' 'jun' 'feb' 'aug' 'jan' 'jul' 'nov' 'sep' 'mar' 'dec']\n",
      "poutcome    ['unknown' 'failure' 'other' 'success']\n",
      "y    ['no' 'yes']\n"
     ]
    }
   ],
   "source": [
    "bk=bank.select_dtypes(include=\"object\")\n",
    "for x in bk.columns:\n",
    "    print(x+\"   \",bk[x].unique())"
   ]
  },
  {
   "cell_type": "code",
   "execution_count": null,
   "id": "73e7c18d-d789-4ed0-b827-bad7d2ceaa27",
   "metadata": {},
   "outputs": [],
   "source": []
  },
  {
   "cell_type": "markdown",
   "id": "b6d0395a-b606-40e9-ac94-de945f0261a9",
   "metadata": {},
   "source": [
    "# Map Cagegorical to numerical"
   ]
  },
  {
   "cell_type": "code",
   "execution_count": 21,
   "id": "07280822-4ca3-45ee-8663-3aa1c2417538",
   "metadata": {},
   "outputs": [],
   "source": [
    "job_map = {'unemployed':0, 'services':1, 'management':2, 'blue-collar':3, 'self-employed':4,\n",
    " 'technician':5, 'entrepreneur':6, 'admin.':7, 'student':8, 'housemaid':9, 'retired':10,\n",
    " 'unknown':11}"
   ]
  },
  {
   "cell_type": "code",
   "execution_count": 23,
   "id": "8029fa7e-48d5-4551-b44a-d81330f231c1",
   "metadata": {},
   "outputs": [],
   "source": [
    "marital_map= {'married':0, 'single':1, 'divorced':2}"
   ]
  },
  {
   "cell_type": "code",
   "execution_count": 25,
   "id": "c71d7b7b-3960-4a8f-b7e5-b7cc079c3b3c",
   "metadata": {},
   "outputs": [],
   "source": [
    "education_map = {'primary':0, 'secondary':1, 'tertiary':2, 'unknown':3}"
   ]
  },
  {
   "cell_type": "code",
   "execution_count": 27,
   "id": "19cd04a2-0b02-419e-bb0c-29fde8339610",
   "metadata": {},
   "outputs": [],
   "source": [
    "default_map = {'no':0,'yes':1}"
   ]
  },
  {
   "cell_type": "code",
   "execution_count": null,
   "id": "85175363-97a1-4fe5-bbc0-5b4952cf5e3c",
   "metadata": {},
   "outputs": [],
   "source": [
    "housing_map = {'no':0,'yes':1}"
   ]
  },
  {
   "cell_type": "code",
   "execution_count": 29,
   "id": "250df57c-b1b2-4b89-96c9-95df6b308ff0",
   "metadata": {},
   "outputs": [],
   "source": [
    "loan_map = {'no':0,'yes':1}"
   ]
  },
  {
   "cell_type": "code",
   "execution_count": 31,
   "id": "8cbf8525-1f93-4d1d-99b2-77ddb3db2f6c",
   "metadata": {},
   "outputs": [],
   "source": [
    "contact_map = {'cellular':0, 'unknown':1, 'telephone':2}"
   ]
  },
  {
   "cell_type": "code",
   "execution_count": 33,
   "id": "a41f711a-1d9a-42c0-b9c2-13507b424e27",
   "metadata": {},
   "outputs": [],
   "source": [
    "month_map = {'jan':0, 'feb':1, 'mar':2, 'apr':3, 'may':4,  'jun':5, 'jul':6, 'aug':7, 'sep':8,  'oct':9, 'nov':10, 'dec':11}"
   ]
  },
  {
   "cell_type": "code",
   "execution_count": 35,
   "id": "3f3f5894-e3f2-430b-9222-a11e8ad63149",
   "metadata": {},
   "outputs": [],
   "source": [
    "poutcome_map= {'unknown':0, 'failure':1, 'other':2, 'success':3}"
   ]
  },
  {
   "cell_type": "code",
   "execution_count": null,
   "id": "6bb40d64-4b01-4194-be9b-96d0761fcd96",
   "metadata": {},
   "outputs": [],
   "source": []
  },
  {
   "cell_type": "code",
   "execution_count": null,
   "id": "333862cb-0d08-4a40-a89c-145b2c324a04",
   "metadata": {},
   "outputs": [],
   "source": []
  },
  {
   "cell_type": "code",
   "execution_count": null,
   "id": "58846c9d-8ffb-4eb9-aede-03cc23cc40ad",
   "metadata": {},
   "outputs": [],
   "source": []
  },
  {
   "cell_type": "code",
   "execution_count": null,
   "id": "569adf8e-f3ca-4b16-9824-b5a2589c83c6",
   "metadata": {},
   "outputs": [],
   "source": []
  }
 ],
 "metadata": {
  "kernelspec": {
   "display_name": "Python 3 (ipykernel)",
   "language": "python",
   "name": "python3"
  },
  "language_info": {
   "codemirror_mode": {
    "name": "ipython",
    "version": 3
   },
   "file_extension": ".py",
   "mimetype": "text/x-python",
   "name": "python",
   "nbconvert_exporter": "python",
   "pygments_lexer": "ipython3",
   "version": "3.12.3"
  }
 },
 "nbformat": 4,
 "nbformat_minor": 5
}
